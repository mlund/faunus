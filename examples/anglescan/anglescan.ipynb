{
 "cells": [
  {
   "cell_type": "markdown",
   "id": "ead23ead-da68-4b55-9c8e-8ed13074f132",
   "metadata": {},
   "source": [
    "# Continuous Monte Carlo sampling vs. explicit angle integration\n",
    "\n",
    "In this example we study the interaction between two identical particles based on the\n",
    "_charged patchy particle model_ (CPPM). The used particle, \"P18\", has both a monopole and\n",
    "a dipole moment.\n",
    "Charged particles in the surface of the nano-particles interact via a Yukawa potential with\n",
    "a screening length of 20 Å. Despite being of same size, ion-dipole interactions lead to an\n",
    "overall (free energy) attraction between the two macroions.\n",
    "\n",
    "- **Free energy**: using a discrete angular resolution (Δ⍺ = 17.2°) this can be obtained by sampling the\n",
    "  partition function, $Q = \\sum e^{-\\beta u_i}$ or by averaging the exponentiated energy: $w(r) = -kT\\ln \\langle e^{-\\beta u(r)} \\rangle$.\n",
    "  In Metropolis-Hastings MC it is obtained\n",
    "  by Boltzmann inversion of the radial distribution function: $w(r) = -kT \\ln g(r)$.\n",
    "- **Mean energy**: In MC this is sampled by simply averaging the nonbonded energy. In discrete sampling\n",
    "  over angles, this is obtained as $\\langle u \\rangle = \\sum u_i e^{-\\beta u_i} / Q$."
   ]
  },
  {
   "cell_type": "code",
   "execution_count": null,
   "id": "10c5d09f-adf6-4d92-887f-0652209b854a",
   "metadata": {},
   "outputs": [],
   "source": [
    "%matplotlib inline\n",
    "import matplotlib.pyplot as plt\n",
    "import numpy as np"
   ]
  },
  {
   "cell_type": "code",
   "execution_count": null,
   "id": "faab62c8-734b-4a65-a96c-2f12fc8163b6",
   "metadata": {},
   "outputs": [],
   "source": [
    "r, w, u, u_mc = np.loadtxt('anglescan_energies.dat', unpack=True)\n",
    "r_rdf, g = np.loadtxt('anglescan_rdf.dat', unpack=True)"
   ]
  },
  {
   "cell_type": "code",
   "execution_count": null,
   "id": "9b67db68-d267-45b1-b392-4844e659ea9d",
   "metadata": {},
   "outputs": [],
   "source": [
    "plt.plot(r, w, 'r-', label = 'free energy')\n",
    "plt.plot(r, u, 'k-', label = 'avg. energy')\n",
    "plt.plot(r, u_mc, 'ko', label = 'avg. energy (MC)')\n",
    "plt.plot(r_rdf, -np.log(g), 'ro', label = 'free energy (MC)')\n",
    "plt.legend(frameon=False, loc=0)\n",
    "plt.xlabel(r'mass center separation, $r$ (Å)')\n",
    "plt.ylabel(r'energy ($k_BT$)')\n",
    "plt.show()"
   ]
  },
  {
   "cell_type": "markdown",
   "id": "274bd180-ac60-4c79-b576-f51e7b86f86b",
   "metadata": {},
   "source": [
    "## Running the angular integration\n",
    "\n",
    "Faunus now supports a `preface` input section where arbitrary actions can be run just before the simulation begins.\n",
    "The angular integration is implemented as such an action -- see `anglescan.yml`.\n",
    "To skip the following MC simulation, use the `--norun` option."
   ]
  },
  {
   "cell_type": "code",
   "execution_count": null,
   "id": "8c68aba9-66c0-4756-9543-323563290315",
   "metadata": {},
   "outputs": [],
   "source": [
    "!yason.py anglescan.yml | faunus --norun --verbosity 5"
   ]
  }
 ],
 "metadata": {
  "kernelspec": {
   "display_name": "Python 3 (ipykernel)",
   "language": "python",
   "name": "python3"
  },
  "language_info": {
   "codemirror_mode": {
    "name": "ipython",
    "version": 3
   },
   "file_extension": ".py",
   "mimetype": "text/x-python",
   "name": "python",
   "nbconvert_exporter": "python",
   "pygments_lexer": "ipython3",
   "version": "3.9.15"
  }
 },
 "nbformat": 4,
 "nbformat_minor": 5
}
