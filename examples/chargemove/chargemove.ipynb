{
 "cells": [
  {
   "cell_type": "code",
   "execution_count": null,
   "id": "0e199935",
   "metadata": {},
   "outputs": [],
   "source": [
    "%matplotlib inline\n",
    "import matplotlib\n",
    "import numpy as np\n",
    "import matplotlib.pyplot as plt"
   ]
  },
  {
   "cell_type": "code",
   "execution_count": null,
   "id": "d4ede657",
   "metadata": {},
   "outputs": [],
   "source": [
    "!~/github/faunus/scripts/yason.py chargemove.yml | ~/github/faunus/cmake-build-release/faunus --nobar"
   ]
  },
  {
   "cell_type": "code",
   "execution_count": null,
   "id": "4b7351de",
   "metadata": {},
   "outputs": [],
   "source": [
    "qmin = -1.5\n",
    "qmax = 1.0\n",
    "step, q, avg = np.loadtxt('q.dat.gz', unpack=True)\n",
    "plt.hist(q, bins=20)\n",
    "plt.xlim(qmin-0.1,qmax+0.1)\n",
    "plt.xlabel('particle charge')\n",
    "plt.ylabel('count')\n",
    "plt.title('We expect a flat distribution')\n",
    "print(\"average charge = {:.2f} (expecting {:.2f})\".format(q.mean(), 0.5*(qmax-qmin)+qmin ))"
   ]
  }
 ],
 "metadata": {
  "kernelspec": {
   "display_name": "Python 3",
   "language": "python",
   "name": "python3"
  },
  "language_info": {
   "codemirror_mode": {
    "name": "ipython",
    "version": 3
   },
   "file_extension": ".py",
   "mimetype": "text/x-python",
   "name": "python",
   "nbconvert_exporter": "python",
   "pygments_lexer": "ipython3",
   "version": "3.8.5"
  }
 },
 "nbformat": 4,
 "nbformat_minor": 5
}
