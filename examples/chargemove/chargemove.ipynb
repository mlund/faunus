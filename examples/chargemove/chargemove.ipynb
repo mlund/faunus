{
 "cells": [
  {
   "cell_type": "code",
   "execution_count": null,
   "id": "2823ee4d",
   "metadata": {},
   "outputs": [],
   "source": [
    "%matplotlib inline\n",
    "import matplotlib\n",
    "import numpy as np\n",
    "import matplotlib.pyplot as plt"
   ]
  },
  {
   "cell_type": "code",
   "execution_count": null,
   "id": "52009284",
   "metadata": {},
   "outputs": [],
   "source": [
    "!~/github/faunus/scripts/yason.py chargemove.yml | ~/github/faunus/cmake-build-release/faunus --nobar"
   ]
  },
  {
   "cell_type": "code",
   "execution_count": null,
   "id": "d22ea86b",
   "metadata": {},
   "outputs": [],
   "source": [
    "step, x, avg = np.loadtxt('q.dat.gz', unpack=True)\n",
    "plt.hist(x, bins=20)\n",
    "plt.xlim(0,1)\n",
    "plt.xlabel('particle charge')\n",
    "plt.ylabel('count')\n",
    "plt.title('here we expect a flat distribution...')\n",
    "plt.yscale('log')\n",
    "print(\"average charge = {}\".format(x.mean()))"
   ]
  }
 ],
 "metadata": {
  "kernelspec": {
   "display_name": "Python 3",
   "language": "python",
   "name": "python3"
  },
  "language_info": {
   "codemirror_mode": {
    "name": "ipython",
    "version": 3
   },
   "file_extension": ".py",
   "mimetype": "text/x-python",
   "name": "python",
   "nbconvert_exporter": "python",
   "pygments_lexer": "ipython3",
   "version": "3.8.5"
  }
 },
 "nbformat": 4,
 "nbformat_minor": 5
}
