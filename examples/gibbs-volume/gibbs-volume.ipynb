{
 "cells": [
  {
   "cell_type": "markdown",
   "id": "b22166ba-f7f6-4ac8-bd43-a3fa5c90d855",
   "metadata": {},
   "source": [
    "# Gibbs Ensemble\n",
    "\n",
    "The Gibbs ensemble requires that Faunus is compiled with MPI support and _exactly two_ processes must be given.\n",
    "- If the starting conditions for each cell are identical, use `--nopfx` and a single `input.json` file.\n",
    "- If the input differs, e.g. different initial volumes or number of particles, create two input files, prefixes with `mpi0.` and `mpi1.` and skip the `--nopfx` flag."
   ]
  },
  {
   "cell_type": "code",
   "execution_count": null,
   "id": "f73453f8-6e23-466b-b958-26b2d13bc36d",
   "metadata": {
    "tags": []
   },
   "outputs": [],
   "source": [
    "%matplotlib inline\n",
    "import matplotlib.pyplot as plt\n",
    "import numpy as np"
   ]
  },
  {
   "cell_type": "code",
   "execution_count": null,
   "id": "20a35044-cb26-48d1-9671-d8abfebb8511",
   "metadata": {
    "tags": []
   },
   "outputs": [],
   "source": [
    "!yason.py gibbs-volume.yml > input.json\n",
    "!mpirun -np 2 faunus --nopfx -i input.json"
   ]
  },
  {
   "cell_type": "code",
   "execution_count": null,
   "id": "f0a518fc-f64b-479b-8e80-f79bc663a091",
   "metadata": {
    "tags": []
   },
   "outputs": [],
   "source": [
    "N = 20\n",
    "V1 = np.loadtxt('mpi0.volume.dat.gz', usecols=[1])\n",
    "V2 = np.loadtxt('mpi1.volume.dat.gz', usecols=[1])\n",
    "V_total = V1 + V2\n",
    "rho1 = N / V1\n",
    "rho2 = N / V2\n",
    "plt.plot(rho1)\n",
    "plt.plot(rho2)\n",
    "print('mean total volume = {:.1f} ± {:.1E}'.format(V_total.mean(), V_total.std()))"
   ]
  },
  {
   "cell_type": "code",
   "execution_count": null,
   "id": "e70cf2f1-ceab-4da9-97f6-81cc98a1ce27",
   "metadata": {},
   "outputs": [],
   "source": []
  }
 ],
 "metadata": {
  "kernelspec": {
   "display_name": "Python 3 (ipykernel)",
   "language": "python",
   "name": "python3"
  },
  "language_info": {
   "codemirror_mode": {
    "name": "ipython",
    "version": 3
   },
   "file_extension": ".py",
   "mimetype": "text/x-python",
   "name": "python",
   "nbconvert_exporter": "python",
   "pygments_lexer": "ipython3",
   "version": "3.10.9"
  }
 },
 "nbformat": 4,
 "nbformat_minor": 5
}
