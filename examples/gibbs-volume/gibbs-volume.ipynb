{
 "cells": [
  {
   "cell_type": "code",
   "execution_count": null,
   "id": "f73453f8-6e23-466b-b958-26b2d13bc36d",
   "metadata": {
    "tags": []
   },
   "outputs": [],
   "source": [
    "%matplotlib inline\n",
    "import matplotlib.pyplot as plt\n",
    "import numpy as np"
   ]
  },
  {
   "cell_type": "code",
   "execution_count": null,
   "id": "f0a518fc-f64b-479b-8e80-f79bc663a091",
   "metadata": {
    "tags": []
   },
   "outputs": [],
   "source": [
    "v0 = np.loadtxt('mpi0.volume.dat.gz', usecols=[1])\n",
    "v1 = np.loadtxt('mpi1.volume.dat.gz', usecols=[1])\n",
    "plt.plot(40/v0)\n",
    "plt.plot(20/v1)\n",
    "#plt.plot(v0+v1)"
   ]
  },
  {
   "cell_type": "code",
   "execution_count": null,
   "id": "132f17d0-22ac-4c5d-9d23-d69f706b6d3e",
   "metadata": {
    "tags": []
   },
   "outputs": [],
   "source": [
    "v0"
   ]
  },
  {
   "cell_type": "code",
   "execution_count": null,
   "id": "ad5ab093-3245-4068-8078-8f2fb265e60c",
   "metadata": {},
   "outputs": [],
   "source": []
  }
 ],
 "metadata": {
  "kernelspec": {
   "display_name": "Python 3 (ipykernel)",
   "language": "python",
   "name": "python3"
  },
  "language_info": {
   "codemirror_mode": {
    "name": "ipython",
    "version": 3
   },
   "file_extension": ".py",
   "mimetype": "text/x-python",
   "name": "python",
   "nbconvert_exporter": "python",
   "pygments_lexer": "ipython3",
   "version": "3.10.9"
  }
 },
 "nbformat": 4,
 "nbformat_minor": 5
}
