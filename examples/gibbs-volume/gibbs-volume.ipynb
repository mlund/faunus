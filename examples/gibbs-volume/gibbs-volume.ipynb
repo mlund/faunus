{
 "cells": [
  {
   "cell_type": "markdown",
   "id": "b22166ba-f7f6-4ac8-bd43-a3fa5c90d855",
   "metadata": {},
   "source": [
    "# Gibbs Ensemble\n",
    "\n",
    "In this example, we use the Gibbs ensemble to study the co-existence of gaseous and liquid phases in a Lennard-Jones particle system.\n",
    "\n",
    "## How to run\n",
    "\n",
    "The Gibbs ensemble requires that Faunus is compiled with MPI support and _exactly two_ processes must be given with e.g. `mpirun -np 2`.\n",
    "- If the starting conditions for each cell are identical, use `--nopfx` and a single `input.json` file.\n",
    "- If the input differs, e.g. different initial volumes or number of particles, create two input files, prefixes with `mpi0.` and `mpi1.` and skip the `--nopfx` flag.\n",
    "\n",
    "## Refence system\n",
    "\n",
    "This current setup is for a Lennard-Jones system as shown in Table 1 of [doi:10/cvzgw9](https://dx.doi.org/doi:10/cvzgw9). At $T^*=1.25$ we have gas-liquid coexistence at the reduced densities $\\rho^*(g)=0.148$ and $\\rho^*(l)=0.526$.\n",
    "These reference values are shown with green, dashed lines on the last row of plots below."
   ]
  },
  {
   "cell_type": "code",
   "execution_count": null,
   "id": "f73453f8-6e23-466b-b958-26b2d13bc36d",
   "metadata": {
    "tags": []
   },
   "outputs": [],
   "source": [
    "%matplotlib inline\n",
    "import matplotlib.pyplot as plt\n",
    "import numpy as np"
   ]
  },
  {
   "cell_type": "code",
   "execution_count": null,
   "id": "20a35044-cb26-48d1-9671-d8abfebb8511",
   "metadata": {
    "tags": []
   },
   "outputs": [],
   "source": [
    "!yason.py gibbs-volume.yml.yml > input.json\n",
    "#!mpirun -np 2 ./faunus --nopfx -i input.json --nobar --verbosity 5\n",
    "print('done.')"
   ]
  },
  {
   "cell_type": "code",
   "execution_count": null,
   "id": "f0a518fc-f64b-479b-8e80-f79bc663a091",
   "metadata": {
    "tags": []
   },
   "outputs": [],
   "source": [
    "steps, V1 = np.loadtxt('mpi0.volume.dat.gz', usecols=[0,1], unpack=True)\n",
    "V2 = np.loadtxt('mpi1.volume.dat.gz', usecols=[1])\n",
    "n1 = np.loadtxt('mpi0.N.dat.gz', usecols=[1])\n",
    "n2 = np.loadtxt('mpi1.N.dat.gz', usecols=[1])\n",
    "V_total = V1 + V2\n",
    "n_total = n1 + n2\n",
    "rho1 = n1 / V1\n",
    "rho2 = n2 / V2\n",
    "\n",
    "fig, ax = plt.subplots(nrows=3, ncols=2)\n",
    "\n",
    "# Number of particles\n",
    "ax[0][0].set_title(r'$n/N_{tot}$')\n",
    "ax[0][0].plot(steps, n1 / n_total, alpha=0.8, lw=0.5)\n",
    "ax[0][0].plot(steps, n2 / n_total, alpha=0.8, lw=0.5)\n",
    "ax[0][1].hist(n1 / n_total, bins=50, density=True, histtype='step')\n",
    "ax[0][1].hist(n2 / n_total, bins=50, density=True, histtype='step')\n",
    "ax[0][1].set_title(r'$P(n)$')\n",
    "\n",
    "# Volumes\n",
    "ax[1,0].set_title(r'$v/V_{tot}$')\n",
    "ax[1,0].plot(steps, V1 / V_total, alpha=0.8, lw=0.5)\n",
    "ax[1,0].plot(steps, V2 / V_total, alpha=0.8, lw=0.5)\n",
    "ax[1,1].hist(V1 / V_total, bins=50, density=True, histtype='step')\n",
    "ax[1,1].hist(V2 / V_total, bins=50, density=True, histtype='step')\n",
    "ax[1,1].set_title(r'$P(v)$')\n",
    "\n",
    "# Densities incl. reference values from Table 1 in doi:10/cvzgw9\n",
    "ax[2,0].set_title(r'Reduced density, $\\rho$')\n",
    "ax[2,0].hlines(y=0.148, xmin=0, xmax=steps[-1], color='g', alpha=1, linestyle=':')\n",
    "ax[2,0].hlines(y=0.526, xmin=0, xmax=steps[-1], color='g', alpha=1, linestyle=':')\n",
    "ax[2,0].plot(steps, rho1, alpha=0.8, lw=0.5)\n",
    "ax[2,0].plot(steps, rho2, alpha=0.8, lw=0.5)\n",
    "ax[2,1].hist(rho1, bins=50, density=True, stacked=True, histtype='step')\n",
    "ax[2,1].hist(rho2, bins=50, density=True, stacked=True, histtype='step')\n",
    "ax[2,1].set_title(r'$P(\\rho)$')\n",
    "\n",
    "plt.tight_layout()\n",
    "\n",
    "box_length = 9.999999999999998 # initial box lengths\n",
    "print('Initial volume           = {:.1f}'.format(box_length**3 * 2))\n",
    "print('mean total volume        = {:.1f} ± {:.1E}'.format(V_total.mean(), V_total.std()))\n",
    "print('mean total num particles = {:.1f} ± {:.1E}'.format(n_total.mean(), n_total.std()))"
   ]
  }
 ],
 "metadata": {
  "kernelspec": {
   "display_name": "Python 3 (ipykernel)",
   "language": "python",
   "name": "python3"
  },
  "language_info": {
   "codemirror_mode": {
    "name": "ipython",
    "version": 3
   },
   "file_extension": ".py",
   "mimetype": "text/x-python",
   "name": "python",
   "nbconvert_exporter": "python",
   "pygments_lexer": "ipython3",
   "version": "3.10.9"
  }
 },
 "nbformat": 4,
 "nbformat_minor": 5
}
