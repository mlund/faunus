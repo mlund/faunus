{
 "cells": [
  {
   "cell_type": "markdown",
   "metadata": {},
   "source": [
    "# Decomposition of electrostatic interaction energy between two multipolar molecules\n",
    "\n",
    "This is a Jupyter notebook (http://jupyter.org) for studying the interaction between multipolar particles."
   ]
  },
  {
   "cell_type": "markdown",
   "metadata": {},
   "source": [
    "## Load required packages"
   ]
  },
  {
   "cell_type": "code",
   "execution_count": null,
   "metadata": {},
   "outputs": [],
   "source": [
    "%matplotlib inline\n",
    "import matplotlib\n",
    "import matplotlib.cm as cm\n",
    "import unittest\n",
    "import numpy as np\n",
    "import matplotlib.pyplot as plt\n",
    "import sys\n",
    "plt.rcParams.update({'font.size': 18, 'figure.figsize': [8.0, 6.0]})"
   ]
  },
  {
   "cell_type": "markdown",
   "metadata": {},
   "source": [
    "## Run simulation"
   ]
  },
  {
   "cell_type": "code",
   "execution_count": null,
   "metadata": {},
   "outputs": [],
   "source": [
    "%%bash\n",
    "if [[ -z \"${FAUNUS_EXECUTABLE}\" ]]; then\n",
    "  yason.py multipole.yml | faunus --nobar -s multipole.state.ubj\n",
    "else\n",
    "  echo \"Seems we're running CTest - use Faunus target from CMake\"\n",
    "  \"${YASON_EXECUTABLE}\" multipole.yml | \"${FAUNUS_EXECUTABLE}\" --nobar -s multipole.state.ubj\n",
    "fi"
   ]
  },
  {
   "cell_type": "markdown",
   "metadata": {},
   "source": [
    "## Plot multipolar energies as a function of separation"
   ]
  },
  {
   "cell_type": "code",
   "execution_count": null,
   "metadata": {},
   "outputs": [],
   "source": [
    "R, exact, total, ionion, iondip, dipdip, ionquad, mucorr = np.loadtxt('multipole.dat', unpack=True, skiprows=2)\n",
    "lw=4\n",
    "plt.plot(R, ionion, label='ion-ion', lw=lw)\n",
    "plt.plot(R, iondip, label='ion-dipole', lw=lw)\n",
    "plt.plot(R, dipdip, label='dipole-dipole', lw=lw)\n",
    "plt.plot(R, ionquad, label='ion-quadrupole', lw=lw)\n",
    "plt.plot(R, total, label='sum of multipoles', lw=lw)\n",
    "plt.plot(R, exact, 'ko', label='exact')\n",
    "plt.xlabel('separation (Å)')\n",
    "plt.ylabel('energy ($kT/\\lambda_B$)')\n",
    "plt.legend(loc=0, frameon=False)\n",
    "plt.savefig('multipole.png', bbox_inches='tight')"
   ]
  },
  {
   "cell_type": "markdown",
   "metadata": {},
   "source": [
    "## Unittests\n",
    "\n",
    "Compare distributions with previously saved results"
   ]
  },
  {
   "cell_type": "code",
   "execution_count": null,
   "metadata": {},
   "outputs": [],
   "source": [
    "class TestMultipole(unittest.TestCase):\n",
    "    def test_Exact(self):\n",
    "        self.assertAlmostEqual(exact.mean(), -0.12266326530612245, places=3)\n",
    "\n",
    "    def test_IonIon(self):\n",
    "        self.assertAlmostEqual(ionion.mean(), -0.11624285714285715, places=2)\n",
    "\n",
    "    def test_IonDipole(self):\n",
    "        self.assertAlmostEqual(iondip.mean(), -0.006777551020408164, places=2)\n",
    "        \n",
    "    def test_DipoleDipole(self):\n",
    "        self.assertAlmostEqual(dipdip.mean(), -0.0008632653061224489, places=2)\n",
    "        \n",
    "    def test_IonQuadrupole(self):\n",
    "        self.assertAlmostEqual(ionquad.mean(), 0.0005040816326530612, places=3)\n",
    "\n",
    "test = TestMultipole()\n",
    "suite = unittest.TestLoader().loadTestsFromModule(test)\n",
    "ret = unittest.TextTestRunner(verbosity=2).run(suite)\n",
    "if (not ret.wasSuccessful()):\n",
    "    sys.exit(ret)"
   ]
  }
 ],
 "metadata": {
  "kernelspec": {
   "display_name": "Python 3",
   "language": "python",
   "name": "python3"
  },
  "language_info": {
   "codemirror_mode": {
    "name": "ipython",
    "version": 3
   },
   "file_extension": ".py",
   "mimetype": "text/x-python",
   "name": "python",
   "nbconvert_exporter": "python",
   "pygments_lexer": "ipython3",
   "version": "3.7.4"
  }
 },
 "nbformat": 4,
 "nbformat_minor": 4
}
