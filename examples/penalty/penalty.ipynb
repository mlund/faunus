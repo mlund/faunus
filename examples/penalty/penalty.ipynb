{
 "cells": [
  {
   "cell_type": "markdown",
   "metadata": {},
   "source": [
    "# Penalty Function\n",
    "\n",
    "This is a simple example of how to use the flat histogram method in in Faunus"
   ]
  },
  {
   "cell_type": "code",
   "execution_count": null,
   "metadata": {},
   "outputs": [],
   "source": [
    "%matplotlib inline\n",
    "import matplotlib\n",
    "import matplotlib.cm as cm\n",
    "import numpy as np\n",
    "import matplotlib.pyplot as plt\n",
    "from math import log, fabs, pi, cos, sin"
   ]
  },
  {
   "cell_type": "markdown",
   "metadata": {},
   "source": [
    "### Run penalty example"
   ]
  },
  {
   "cell_type": "code",
   "execution_count": null,
   "metadata": {},
   "outputs": [],
   "source": [
    "%%bash\n",
    "rm -fR penalty.dat\n",
    "if [[ -z \"${FAUNUS_EXECUTABLE}\" ]]; then\n",
    "  yason.py penalty.yml | faunus --nobar\n",
    "else\n",
    "  echo \"Seems we're running CTest - use Faunus target from CMake\"\n",
    "  \"${YASON_EXECUTABLE}\" penalty.yml | \"${FAUNUS_EXECUTABLE}\" --nobar\n",
    "fi"
   ]
  },
  {
   "cell_type": "markdown",
   "metadata": {},
   "source": [
    "### Load penalty function\n",
    "This loads the penalty function from disk which is simply the negative of the final potential of mean force. Also load the final histogram, which ideally should be _flat_ over the reaction coordinates."
   ]
  },
  {
   "cell_type": "code",
   "execution_count": null,
   "metadata": {},
   "outputs": [],
   "source": [
    "PMF = -np.loadtxt('penalty.dat', skiprows=1).T\n",
    "HIST = np.loadtxt('penalty-histogram.dat').T\n",
    "HIST = np.log(HIST/HIST.min())\n",
    "print('Penalty maximum barrier    =', fabs(PMF.max()-PMF.min()), 'kT')\n",
    "print('Maximum simulation barrier =', HIST.max(), 'kT')"
   ]
  },
  {
   "cell_type": "code",
   "execution_count": null,
   "metadata": {},
   "outputs": [],
   "source": [
    "fig, (ax1, ax2) = plt.subplots(1,2, sharex=True, sharey=True)\n",
    "fig.set_size_inches(10,4)\n",
    "im1 = ax1.imshow(PMF, interpolation='bilinear', cmap=cm.afmhot, extent=[-2,2,-2,2],\n",
    "               origin='lower', vmin=PMF.min(), vmax=PMF.max())\n",
    "im2 = ax2.imshow(HIST, interpolation='bilinear', cmap=cm.afmhot, extent=[-2,2,-2,2],\n",
    "               origin='lower', vmin=HIST.min(), vmax=HIST.max())\n",
    "ax1.set_title('Potential of Mean Force')\n",
    "ax2.set_title('Barriers during simulation')\n",
    "ax1.set_xlabel(r'$x$')\n",
    "ax2.set_xlabel(r'$x$')\n",
    "ax1.set_ylabel(r'$y$')\n",
    "ax2.set_ylabel(r'$y$')\n",
    "cbar1 = fig.colorbar(im1, ax=ax1)\n",
    "cbar2 = fig.colorbar(im2, ax=ax2)\n",
    "cbar1.set_label('$k_BT$')\n",
    "cbar2.set_label('$k_BT$')\n",
    "plt.show()"
   ]
  },
  {
   "cell_type": "markdown",
   "metadata": {},
   "source": [
    "### External Potential\n",
    "\n",
    "Now let's plot the external potential applied during simulation. The PMF should tend towards this."
   ]
  },
  {
   "cell_type": "code",
   "execution_count": null,
   "metadata": {},
   "outputs": [],
   "source": [
    "def energy(x,y):\n",
    "    ''' Energy function used during simulation '''\n",
    "    s=1+sin(2*pi*x) + cos(2*pi*y)\n",
    "    if x>=-2.00 and x<=-1.25: return 1*s\n",
    "    if x>=-1.25 and x<=-0.25: return 2*s\n",
    "    if x>=-0.25 and x<= 0.75: return 3*s\n",
    "    if x>= 0.75 and x<= 1.75: return 4*s\n",
    "    if x>= 1.75 and x<= 2.00: return 5*s\n",
    "    raise Exception"
   ]
  },
  {
   "cell_type": "code",
   "execution_count": null,
   "metadata": {},
   "outputs": [],
   "source": [
    "x = y = np.arange(-2.0, 2.0, 0.1)\n",
    "X, Y = np.meshgrid(x,y) \n",
    "Z = np.vectorize(energy)(X,Y)\n",
    "Z = Z-Z.max()\n",
    "fig, ax = plt.subplots()\n",
    "im = ax.imshow(Z, interpolation='bilinear', cmap=cm.afmhot,\n",
    "               origin='lower', extent=[-2, 2, -2, 2],\n",
    "               vmax=Z.max(), vmin=Z.min())\n",
    "ax.set_title('External potential')\n",
    "fig.colorbar(im, ax=ax)"
   ]
  }
 ],
 "metadata": {
  "kernelspec": {
   "display_name": "Python 3",
   "language": "python",
   "name": "python3"
  },
  "language_info": {
   "codemirror_mode": {
    "name": "ipython",
    "version": 3
   },
   "file_extension": ".py",
   "mimetype": "text/x-python",
   "name": "python",
   "nbconvert_exporter": "python",
   "pygments_lexer": "ipython3",
   "version": "3.7.1"
  }
 },
 "nbformat": 4,
 "nbformat_minor": 2
}
