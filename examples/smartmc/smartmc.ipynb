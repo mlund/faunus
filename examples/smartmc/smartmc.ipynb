{
 "cells": [
  {
   "cell_type": "code",
   "execution_count": 60,
   "id": "ccde2664",
   "metadata": {},
   "outputs": [],
   "source": [
    "%matplotlib inline\n",
    "import matplotlib\n",
    "import numpy as np\n",
    "import matplotlib.pyplot as plt"
   ]
  },
  {
   "cell_type": "code",
   "execution_count": 61,
   "id": "6a4c289a",
   "metadata": {},
   "outputs": [
    {
     "name": "stdout",
     "output_type": "stream",
     "text": [
      "[faunus 20476] \u001b[32mI: adding 1 ref molecules --> 3.17140E+00 mol/l (0 inactive)\u001b[m\n",
      "[faunus 20476] \u001b[32mI: adding 10 test molecules --> 3.17140E+01 mol/l (0 inactive)\u001b[m\n",
      "[faunus 20476] \u001b[32mI: initial energy = 0.000000E+00 kT\u001b[m\n",
      "[faunus 20476] \u001b[32mI: relative energy drift = 0.000E+00\u001b[m\n"
     ]
    }
   ],
   "source": [
    "!~/github/faunus/scripts/yason.py smartmc.yml | ~/github/faunus/cmake-build-release/faunus --nobar"
   ]
  },
  {
   "cell_type": "code",
   "execution_count": 62,
   "id": "c8834402",
   "metadata": {},
   "outputs": [
    {
     "data": {
      "image/png": "[encoded data removed]",
      "text/plain": [
       "<Figure size 432x288 with 1 Axes>"
      ]
     },
     "metadata": {
      "needs_background": "light"
     },
     "output_type": "display_data"
    }
   ],
   "source": [
    "step, x, avg = np.loadtxt('x.dat.gz', unpack=True)\n",
    "plt.hist(x, bins=50)\n",
    "plt.xlim(-5,5)\n",
    "plt.xlabel('x position')\n",
    "plt.ylabel('count')\n",
    "plt.title('here we expect a flat distribution...')\n",
    "plt.show();"
   ]
  },
  {
   "cell_type": "code",
   "execution_count": null,
   "id": "4af73433",
   "metadata": {},
   "outputs": [],
   "source": []
  }
 ],
 "metadata": {
  "kernelspec": {
   "display_name": "Python 3",
   "language": "python",
   "name": "python3"
  },
  "language_info": {
   "codemirror_mode": {
    "name": "ipython",
    "version": 3
   },
   "file_extension": ".py",
   "mimetype": "text/x-python",
   "name": "python",
   "nbconvert_exporter": "python",
   "pygments_lexer": "ipython3",
   "version": "3.8.5"
  }
 },
 "nbformat": 4,
 "nbformat_minor": 5
}
