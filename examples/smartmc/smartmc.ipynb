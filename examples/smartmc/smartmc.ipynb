{
 "cells": [
  {
   "cell_type": "code",
   "execution_count": 243,
   "id": "0a0af16d",
   "metadata": {},
   "outputs": [],
   "source": [
    "%matplotlib inline\n",
    "import matplotlib\n",
    "import numpy as np\n",
    "import matplotlib.pyplot as plt"
   ]
  },
  {
   "cell_type": "code",
   "execution_count": 300,
   "id": "ae0d234d",
   "metadata": {},
   "outputs": [
    {
     "name": "stdout",
     "output_type": "stream",
     "text": [
      "[faunus 57881] \u001b[37mT: creating exclusion matrix 0×0 for 0 atoms within distance 0\u001b[m\n",
      "[faunus 57881] \u001b[37mT: creating exclusion matrix 2×0 for 2 atoms within distance 0\u001b[m\n",
      "[faunus 57881] \u001b[37mT: creating exclusion matrix 0×0 for 0 atoms within distance 0\u001b[m\n",
      "[faunus 57881] \u001b[37mT: creating exclusion matrix 1×0 for 1 atoms within distance 0\u001b[m\n",
      "[faunus 57881] \u001b[37mT: space particle capacity = 12\u001b[m\n",
      "[faunus 57881] \u001b[37mT: space groups capacity = 11\u001b[m\n",
      "[faunus 57881] \u001b[32mI: adding 1 ref molecules --> 4.95531E+01 mol/l (0 inactive)\u001b[m\n",
      "[faunus 57881] \u001b[32mI: adding 10 test molecules --> 4.95531E+02 mol/l (0 inactive)\u001b[m\n",
      "[faunus 57881] \u001b[37mT: particles inserted = 12\u001b[m\n",
      "[faunus 57881] \u001b[37mT: groups inserted = 11\u001b[m\n",
      "[faunus 57881] \u001b[36mD: hamiltonian expanded with ContainerOverlap\u001b[m\n",
      "[faunus 57881] \u001b[36mD: repeat = 10 for molecule 'test'\u001b[m\n",
      "[faunus 57881] \u001b[32mI: initial energy = 0.000000E+00 kT\u001b[m\n",
      "[faunus 57881] \u001b[37mT: enabling gzip compression for x.dat.gz\u001b[m\n",
      "[faunus 57881] \u001b[32mI: Regional <N_inside> = 2.52 converged and settled after 185800 iterations\u001b[m\n",
      "[faunus 57881] \u001b[32mI: relative energy drift = 0.000E+00\u001b[m\n",
      "[faunus 57881] \u001b[36mD: writing to confout.pqr\u001b[m\n"
     ]
    }
   ],
   "source": [
    "!~/github/faunus/scripts/yason.py smartmc.yml | ~/github/faunus/cmake-build-release/faunus --nobar -v 6"
   ]
  },
  {
   "cell_type": "code",
   "execution_count": 301,
   "id": "f55a2498",
   "metadata": {},
   "outputs": [
    {
     "name": "stdout",
     "output_type": "stream",
     "text": [
      "average x = -0.011994838780000005\n"
     ]
    },
    {
     "data": {
      "image/png": "[encoded data removed]",
      "text/plain": [
       "<Figure size 432x288 with 1 Axes>"
      ]
     },
     "metadata": {
      "needs_background": "light"
     },
     "output_type": "display_data"
    }
   ],
   "source": [
    "step, x, avg = np.loadtxt('x.dat.gz', unpack=True)\n",
    "plt.hist(x, bins=50)\n",
    "plt.xlim(-2,2)\n",
    "plt.xlabel('x position')\n",
    "plt.ylabel('count')\n",
    "plt.title('here we expect a flat distribution...')\n",
    "print(\"average x = {}\".format(x.mean()))"
   ]
  },
  {
   "cell_type": "code",
   "execution_count": 293,
   "id": "537dc3b8",
   "metadata": {},
   "outputs": [
    {
     "data": {
      "text/plain": [
       "2.5"
      ]
     },
     "execution_count": 293,
     "metadata": {},
     "output_type": "execute_result"
    }
   ],
   "source": [
    "10 / 4"
   ]
  },
  {
   "cell_type": "code",
   "execution_count": null,
   "id": "24ab536e",
   "metadata": {},
   "outputs": [],
   "source": []
  }
 ],
 "metadata": {
  "kernelspec": {
   "display_name": "Python 3",
   "language": "python",
   "name": "python3"
  },
  "language_info": {
   "codemirror_mode": {
    "name": "ipython",
    "version": 3
   },
   "file_extension": ".py",
   "mimetype": "text/x-python",
   "name": "python",
   "nbconvert_exporter": "python",
   "pygments_lexer": "ipython3",
   "version": "3.8.5"
  }
 },
 "nbformat": 4,
 "nbformat_minor": 5
}
