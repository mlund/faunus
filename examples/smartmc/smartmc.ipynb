{
 "cells": [
  {
   "cell_type": "code",
   "execution_count": 86,
   "id": "ff7ae443",
   "metadata": {},
   "outputs": [],
   "source": [
    "%matplotlib inline\n",
    "import matplotlib\n",
    "import numpy as np\n",
    "import matplotlib.pyplot as plt"
   ]
  },
  {
   "cell_type": "code",
   "execution_count": 196,
   "id": "ec2af45c",
   "metadata": {},
   "outputs": [
    {
     "name": "stdout",
     "output_type": "stream",
     "text": [
      "[faunus 34278] \u001b[32mI: adding 1 ref molecules --> 4.95531E+01 mol/l (0 inactive)\u001b[m\n",
      "[faunus 34278] \u001b[32mI: adding 10 test molecules --> 4.95531E+02 mol/l (0 inactive)\u001b[m\n",
      "[faunus 34278] \u001b[32mI: initial energy = 0.000000E+00 kT\u001b[m\n",
      "[faunus 34278] \u001b[32mI: relative energy drift = 0.000E+00\u001b[m\n"
     ]
    }
   ],
   "source": [
    "!~/github/faunus/scripts/yason.py smartmc.yml | ~/github/faunus/cmake-build-release/faunus --nobar"
   ]
  },
  {
   "cell_type": "code",
   "execution_count": 197,
   "id": "ed2bc03f",
   "metadata": {},
   "outputs": [
    {
     "name": "stdout",
     "output_type": "stream",
     "text": [
      "average x = -0.48517471174000004\n"
     ]
    },
    {
     "data": {
      "image/png": "[encoded data removed]",
      "text/plain": [
       "<Figure size 432x288 with 1 Axes>"
      ]
     },
     "metadata": {
      "needs_background": "light"
     },
     "output_type": "display_data"
    }
   ],
   "source": [
    "step, x, avg = np.loadtxt('x.dat.gz', unpack=True)\n",
    "plt.hist(x, bins=50)\n",
    "plt.xlim(-4,4)\n",
    "plt.xlabel('x position')\n",
    "plt.ylabel('count')\n",
    "plt.title('here we expect a flat distribution...')\n",
    "print(\"average x = {}\".format(x.mean()))"
   ]
  },
  {
   "cell_type": "code",
   "execution_count": null,
   "id": "660a5cd9",
   "metadata": {},
   "outputs": [],
   "source": []
  }
 ],
 "metadata": {
  "kernelspec": {
   "display_name": "Python 3",
   "language": "python",
   "name": "python3"
  },
  "language_info": {
   "codemirror_mode": {
    "name": "ipython",
    "version": 3
   },
   "file_extension": ".py",
   "mimetype": "text/x-python",
   "name": "python",
   "nbconvert_exporter": "python",
   "pygments_lexer": "ipython3",
   "version": "3.8.5"
  }
 },
 "nbformat": 4,
 "nbformat_minor": 5
}
