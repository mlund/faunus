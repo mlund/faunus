{
 "cells": [
  {
   "cell_type": "markdown",
   "metadata": {},
   "source": [
    "# Parallel Tempering\n",
    "\n",
    "This is a simple example of how to use parallel tempering in Faunus"
   ]
  },
  {
   "cell_type": "code",
   "execution_count": null,
   "metadata": {},
   "outputs": [],
   "source": [
    "%matplotlib inline\n",
    "import matplotlib\n",
    "import matplotlib.cm as cm\n",
    "import numpy as np\n",
    "import matplotlib.pyplot as plt\n",
    "import jinja2, json, yaml\n",
    "from math import log, fabs, pi, cos, sin"
   ]
  },
  {
   "cell_type": "code",
   "execution_count": null,
   "metadata": {},
   "outputs": [],
   "source": [
    "number_of_replicas = 6\n",
    "scale_array = np.geomspace(1, 0.1, number_of_replicas)\n",
    "temper = True # run with parallel tempering or not?\n",
    "\n",
    "# generate input files from the template file; one for each replica\n",
    "with open(\"temper.yml\") as template_file:\n",
    "    template = jinja2.Template(template_file.read())\n",
    "    for replica, scale in enumerate(scale_array):\n",
    "        contents = template.render(scale=scale, micro=50000)\n",
    "        yml = yaml.safe_load(contents) # parse contents as YAML\n",
    "        if not temper: \n",
    "            del yml[\"moves\"][1]\n",
    "        file = open(\"mpi{}.input.json\".format(replica), 'w')\n",
    "        json.dump(yml, file, indent=4) # save JSON file\n",
    "        file.close()"
   ]
  },
  {
   "cell_type": "code",
   "execution_count": null,
   "metadata": {},
   "outputs": [],
   "source": [
    "!mpirun -np {number_of_replicas} ../../faunus -i input.json --nobar -v 0"
   ]
  },
  {
   "cell_type": "code",
   "execution_count": null,
   "metadata": {},
   "outputs": [],
   "source": [
    "def energy(x):\n",
    "    s = 1 + sin(2*pi*x)\n",
    "    if x>=-2.00 and x<=-1.25: return 1*s\n",
    "    if x>=-1.25 and x<=-0.25: return 2*s\n",
    "    if x>=-0.25 and x<= 0.75: return 3*s\n",
    "    if x>= 0.75 and x<= 1.75: return 4*s\n",
    "    if x>= 1.75 and x<= 2.00: return 5*s\n",
    "    return 10000000\n",
    "\n",
    "u_vec = np.vectorize(energy)\n",
    "offset = 1e10 # used to offset pmf to match above energy function\n",
    "for replica in range(number_of_replicas):\n",
    "    if (replica==0):\n",
    "        x = np.loadtxt(\"mpi{}.x.dat.gz\".format(replica), usecols=[1])\n",
    "        hist, bins = np.histogram(x, bins=150)\n",
    "        x = (bins[:-1] + bins[1:]) / 2\n",
    "        pmf = -np.log(hist)\n",
    "        if (pmf.min() < offset):\n",
    "            offset = pmf.min();\n",
    "        plt.plot(x, pmf, label='{}'.format(replica))\n",
    "        \n",
    "plt.legend(loc=0, frameon=False, title='replica')\n",
    "x = np.linspace(-2, 2, 150)\n",
    "plt.plot(x, u_vec(x) + offset, 'k--', alpha=0.6)\n",
    "plt.xlabel(r'x')\n",
    "plt.ylabel(r'PMF ($k_BT$)');"
   ]
  },
  {
   "cell_type": "markdown",
   "metadata": {},
   "source": [
    "### Run penalty example"
   ]
  },
  {
   "cell_type": "code",
   "execution_count": null,
   "metadata": {},
   "outputs": [],
   "source": [
    "%%bash\n",
    "rm -fR penalty.dat\n",
    "if [[ -z \"${FAUNUS_EXECUTABLE}\" ]]; then\n",
    "  yason.py penalty.yml | faunus --nobar\n",
    "else\n",
    "  echo \"Seems we're running CTest - use Faunus target from CMake\"\n",
    "  \"${YASON_EXECUTABLE}\" penalty.yml | \"${FAUNUS_EXECUTABLE}\" --nobar\n",
    "fi"
   ]
  }
 ],
 "metadata": {
  "kernelspec": {
   "display_name": "Python 3",
   "language": "python",
   "name": "python3"
  },
  "language_info": {
   "codemirror_mode": {
    "name": "ipython",
    "version": 3
   },
   "file_extension": ".py",
   "mimetype": "text/x-python",
   "name": "python",
   "nbconvert_exporter": "python",
   "pygments_lexer": "ipython3",
   "version": "3.7.7"
  }
 },
 "nbformat": 4,
 "nbformat_minor": 4
}
