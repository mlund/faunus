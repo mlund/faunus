{
 "cells": [
  {
   "cell_type": "code",
   "execution_count": null,
   "id": "d5e44a45",
   "metadata": {},
   "outputs": [],
   "source": [
    "%matplotlib inline\n",
    "import matplotlib as mpl\n",
    "import matplotlib.pyplot as plt\n",
    "import pandas as pd\n",
    "import numpy as np\n",
    "import os.path, os, sys, glob, json, copy\n",
    "from jinja2 import Template\n",
    "from itertools import product\n",
    "import ruamel_yaml as yaml\n",
    "from io import StringIO \n",
    "import json\n",
    "\n",
    "workdir = 'workdir_example_name' #Change to name of directory where files are located\n",
    "\n",
    "counter = 0 \n",
    "mpi_where = 0 #Which mpi to start in"
   ]
  },
  {
   "cell_type": "code",
   "execution_count": null,
   "id": "c30e78d2",
   "metadata": {},
   "outputs": [],
   "source": [
    "\n",
    "counter = 1 \n",
    "mpi_where = 9 #which mpi to start in\n",
    "steps = 10 #number of tempering events\n",
    "\n",
    "plt.plot(0, mpi_where, 'k*', markersize=7) #starting point\n",
    "plt.title(f'Movement of original mpi {mpi_where}')\n",
    "\n",
    "\n",
    "mpiX = np.loadtxt(f'{workdir}/mpi{mpi_where}.exchange.dat', delimiter=' ', skiprows=1) # mpi exchange file to start with\n",
    "\n",
    "while counter <= len(mpiX):# go throuhg all exchanges, once the counter is larger than the length of the exchange file, there where no more exchanges\n",
    "    if counter != mpiX[counter-1][0]: # check if the counter is the same as the step number\n",
    "        plt.plot(counter, mpi_where, 'r*') # if not, there was no exchange and mpi_where stays the same\n",
    "        counter += 1\n",
    "        continue\n",
    "                       \n",
    "    if mpiX[counter-1][1] == -1: # if -1 the exchanges was not accepted add to counter, mpi_where stays the same\n",
    "        plt.plot(counter, mpi_where, 'r*')\n",
    "        counter += 1\n",
    "        continue\n",
    "    else: # check between which ranks were swapped \n",
    "        if mpi_where < mpiX[counter-1][1]: # if mpi_where is smaller than the rank the exchange was made with mpi number mpi_where + 1\n",
    "            mpi_where += 1 \n",
    "        if mpi_where > mpiX[counter-1][1]: # if mpi_where is larger than the rank the exchange was made with mpi number mpi_where - 1\n",
    "            mpi_where -= 1 \n",
    "\n",
    "        plt.plot(counter, mpi_where, 'bo')\n",
    "        mpiX = np.loadtxt(f'{workdir}/mpi{mpi_where}.exchange.dat', delimiter=' ', skiprows=1) # load exchange file for currect mpi \n",
    "        counter += 1\n"
   ]
  }
 ],
 "metadata": {
  "kernelspec": {
   "display_name": "Python 3",
   "language": "python",
   "name": "python3"
  },
  "language_info": {
   "codemirror_mode": {
    "name": "ipython",
    "version": 3
   },
   "file_extension": ".py",
   "mimetype": "text/x-python",
   "name": "python",
   "nbconvert_exporter": "python",
   "pygments_lexer": "ipython3",
   "version": "3.9.16"
  }
 },
 "nbformat": 4,
 "nbformat_minor": 5
}
