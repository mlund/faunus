{
 "cells": [
  {
   "cell_type": "markdown",
   "metadata": {},
   "source": [
    "# PMF and virial coefficient calculation using VirtualTranslate\n",
    "\n",
    "Let molecule A (index 0) be centered in the the middle of a spherical simulation cell and allowed to _rotate only_.\n",
    "Place another molecule, B (index 1), in on the positive $z$-axis and let it translate (`dir=[0,0,1]`) and rotate in such a way that it\n",
    "cannot cross to the negative $z$-axis. Add the following to the analysis:\n",
    "\n",
    "~~~ yml\n",
    "- virtualtranslate: {file: vt.dat.gz, dL: 0.1, molecule: B, nstep: 10, dir: [0,0,1]}\n",
    "- reactioncoordinate: {file: R.dat, nstep: 10, type: molecule, property: com_z, index: 1}\n",
    "~~~"
   ]
  },
  {
   "cell_type": "code",
   "execution_count": null,
   "metadata": {},
   "outputs": [],
   "source": [
    "%matplotlib inline\n",
    "import matplotlib.pyplot as plt\n",
    "import numpy as np\n",
    "import numpy as np\n",
    "from scipy.stats import binned_statistic\n",
    "\n",
    "def getForces(xfile, yfile, bins):\n",
    "    ''' get average force as a function of z-position of molecule B '''\n",
    "    R = np.loadtxt(xfile, usecols=[1])\n",
    "    steps, dL, du, force = np.loadtxt(yfile, unpack=True, skiprows=1)\n",
    "    means, edges, bins = binned_statistic(R, np.exp(-du), 'mean', bins)\n",
    "    return edges[1:], (np.log(means) / dL[0])\n",
    "    #return (edges[:-1] + edges[1:]) / 2, np.log(means) / dL[0]"
   ]
  },
  {
   "cell_type": "markdown",
   "metadata": {},
   "source": [
    "## Run Faunus from bash"
   ]
  },
  {
   "cell_type": "code",
   "execution_count": null,
   "metadata": {},
   "outputs": [],
   "source": [
    "%%bash\n",
    "if [[ -z \"${FAUNUS_EXECUTABLE}\" ]]; then\n",
    "  yason.py virial.yml | faunus --nobar\n",
    "else\n",
    "  echo \"Seems we're running CTest - use Faunus target from CMake\"\n",
    "  \"${YASON_EXECUTABLE}\" virial.yml | \"${FAUNUS_EXECUTABLE}\" --nobar\n",
    "fi"
   ]
  },
  {
   "cell_type": "code",
   "execution_count": null,
   "metadata": {},
   "outputs": [],
   "source": [
    "# calculate mean force as a function of \n",
    "R, force = getForces('R.dat', 'vt.dat.gz', 150)"
   ]
  },
  {
   "cell_type": "code",
   "execution_count": null,
   "metadata": {},
   "outputs": [],
   "source": [
    "def lj(r, sigma=5, eps=0.40090549):\n",
    "    return 4*eps*( (sigma/r)**12 - (sigma/r)**6  )\n",
    "\n",
    "# LJ contribution to B2 from zero to contact\n",
    "R0 = np.linspace(1e-6, R.min(), 500)\n",
    "B2hs = -2 * np.pi * np.trapz( np.expm1( -lj(R0) )*R0**2, R0 )\n",
    "\n",
    "# integrate simulated force to get PMF and normalize\n",
    "pmf = -np.cumsum(force)*np.diff(R)[:-2].mean()\n",
    "pmf = pmf - pmf[-1]\n",
    "\n",
    "# integrate to get second virial\n",
    "print(\"B2_hs = \", B2hs)\n",
    "print(\"B2_lj = \", B2hs -2 * np.pi * np.trapz( np.expm1(-lj(R))*R**2, R )) \n",
    "print(\"B2_vt = \", B2hs -2 * np.pi * np.trapz( np.expm1(-pmf)*R**2, R ))\n",
    "\n",
    "plt.plot(R, np.expm1(-pmf)*R**2, label='from force calc')\n",
    "plt.plot(R, np.expm1(-lj(R))*R**2, label='LJ')\n",
    "plt.legend(frameon=False, loc=0)"
   ]
  },
  {
   "cell_type": "code",
   "execution_count": null,
   "metadata": {},
   "outputs": [],
   "source": []
  }
 ],
 "metadata": {
  "kernelspec": {
   "display_name": "Python 3",
   "language": "python",
   "name": "python3"
  },
  "language_info": {
   "codemirror_mode": {
    "name": "ipython",
    "version": 3
   },
   "file_extension": ".py",
   "mimetype": "text/x-python",
   "name": "python",
   "nbconvert_exporter": "python",
   "pygments_lexer": "ipython3",
   "version": "3.7.3"
  }
 },
 "nbformat": 4,
 "nbformat_minor": 4
}
